{
 "cells": [
  {
   "cell_type": "code",
   "execution_count": 1,
   "metadata": {},
   "outputs": [],
   "source": [
    "def plotSteadyState(steadyState, wlLow, wlHigh, pdf, title='Mean IR Band for Each Condition'):\n",
    "    f = plt.figure(figsize=(7,20))\n",
    "    \n",
    "        \n",
    "    index = 1\n",
    "    for key in steadyState.keys():\n",
    "        s = WLtoIndex(steadyState[key]['beg'], wlHigh)\n",
    "        e = WLtoIndex(steadyState[key]['beg'], wlLow)\n",
    "        ax = f.add_subplot(10,1,index)\n",
    "        begData = steadyState[key]['beg']\n",
    "        endData = steadyState[key]['end']\n",
    "        begLabel = (str(key)+' Beg')\n",
    "        endLabel = (str(key)+' End')\n",
    "        ax.plot(begData.iloc[s:e,0], begData.iloc[s:e, 1]*1000, 'b', label=begLabel)\n",
    "        ax.plot(endData.iloc[s:e,0], endData.iloc[s:e, 1]*1000, 'r', label=endLabel)\n",
    "        ax.margins(x=0)\n",
    "        ax.set_ylabel('Absorbance (m0D)')\n",
    "        ax.set_xlabel('Wavenumber (cm\\N{SUPERSCRIPT MINUS}\\N{SUPERSCRIPT ONE})')\n",
    "        #ax.spines['right'].set_visible(False)\n",
    "        ax.tick_params(bottom='off', left='off')\n",
    "        ax.legend(loc = 'best')\n",
    "        index += 1\n",
    "    f.subplots_adjust(hspace=0)\n",
    "    wrapped_title = \"\\n\".join(wrap(title, 40))\n",
    "    f.suptitle(wrapped_title, fontsize=14, ha = 'right', y = 0.91)\n",
    "    \n",
    "\n",
    "    pdf.savefig(bbox_inches = \"tight\")"
   ]
  },
  {
   "cell_type": "code",
   "execution_count": 2,
   "metadata": {},
   "outputs": [],
   "source": [
    "def plotSteadyStateOnly(steadyState, wlLow, wlHigh, pdf, title='Mean IR Band for Each Condition'):\n",
    "    f = plt.figure(figsize=(7,20))\n",
    "\n",
    "    index = 1\n",
    "    for condition in steadyState.keys():\n",
    "        ax = f.add_subplot(10,1,index)\n",
    "        ax.margins(x=0)\n",
    "        ax.set_ylabel('Absorbance (m0D)')\n",
    "        ax.set_xlabel('Wavenumber (cm\\N{SUPERSCRIPT MINUS}\\N{SUPERSCRIPT ONE})')\n",
    "        ax.tick_params(bottom='off', left='off')\n",
    "        i = 0\n",
    "        for replicate in steadyState[condition].keys():\n",
    "            i += 1\n",
    "            s = WLtoIndex(steadyState[condition][replicate], wlHigh)\n",
    "            e = WLtoIndex(steadyState[condition][replicate], wlLow)\n",
    "            Data = steadyState[condition][replicate]\n",
    "            Label = (str(condition)+' '+str(replicate))\n",
    "            ax.plot(Data.iloc[s:e,0], Data.iloc[s:e, 1]*1000, label=Label)\n",
    "        index += 1\n",
    "        ax.legend(loc = 'best')\n",
    "    f.subplots_adjust(hspace=0)\n",
    "    wrapped_title = \"\\n\".join(wrap(title, 40))\n",
    "    plt.title(wrapped_title, fontsize=14, y=1.02, loc = 'left')\n",
    "    pdf.savefig(bbox_inches = \"tight\")\n"
   ]
  },
  {
   "cell_type": "code",
   "execution_count": null,
   "metadata": {},
   "outputs": [],
   "source": []
  }
 ],
 "metadata": {
  "kernelspec": {
   "display_name": "Python 3",
   "language": "python",
   "name": "python3"
  },
  "language_info": {
   "codemirror_mode": {
    "name": "ipython",
    "version": 3
   },
   "file_extension": ".py",
   "mimetype": "text/x-python",
   "name": "python",
   "nbconvert_exporter": "python",
   "pygments_lexer": "ipython3",
   "version": "3.7.6"
  }
 },
 "nbformat": 4,
 "nbformat_minor": 4
}
